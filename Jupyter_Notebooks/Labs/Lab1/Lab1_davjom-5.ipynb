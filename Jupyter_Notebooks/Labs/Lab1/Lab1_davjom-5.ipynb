{
 "cells": [
  {
   "cell_type": "code",
   "execution_count": 1,
   "metadata": {},
   "outputs": [],
   "source": [
    "import numpy as np\n",
    "from matplotlib import pyplot as plt"
   ]
  },
  {
   "cell_type": "code",
   "execution_count": 2,
   "metadata": {},
   "outputs": [
    {
     "name": "stderr",
     "output_type": "stream",
     "text": [
      "Using TensorFlow backend.\n"
     ]
    }
   ],
   "source": [
    "from keras.datasets import mnist\n",
    "from keras.datasets import cifar10"
   ]
  },
  {
   "cell_type": "code",
   "execution_count": 3,
   "metadata": {},
   "outputs": [],
   "source": [
    "#Image whitening\n",
    "(X_train, y_train), (X_test, y_test) = cifar10.load_data()  #Load data\n",
    "X = X_train[:1000]                                          #Select images\n",
    "X = X.reshape(X.shape[0], X.shape[1]*X.shape[2]*X.shape[3]) #Flaten the data"
   ]
  },
  {
   "cell_type": "code",
   "execution_count": 4,
   "metadata": {},
   "outputs": [],
   "source": [
    "#Plots the image X\n",
    "def plotImage(X):\n",
    "    plt.figure(figsize=(1.5, 1.5))\n",
    "    plt.imshow(X.reshape(32,32,3))\n",
    "    plt.show()\n",
    "    plt.close()"
   ]
  },
  {
   "cell_type": "code",
   "execution_count": 5,
   "metadata": {},
   "outputs": [
    {
     "data": {
      "image/png": "[encoded data removed]",
      "text/plain": [
       "<Figure size 108x108 with 1 Axes>"
      ]
     },
     "metadata": {
      "needs_background": "light"
     },
     "output_type": "display_data"
    },
    {
     "data": {
      "image/png": "[encoded data removed]",
      "text/plain": [
       "<Figure size 108x108 with 1 Axes>"
      ]
     },
     "metadata": {
      "needs_background": "light"
     },
     "output_type": "display_data"
    }
   ],
   "source": [
    "#Image whitening cont.\n",
    "X_norm = X / 255\n",
    "X_norm = X_norm - X_norm.mean(axis=0)\n",
    "cov = np.cov(X_norm, rowvar=True) #Covariance\n",
    "U,S,V = np.linalg.svd(cov)\n",
    "\n",
    "epsilon = 0.1\n",
    "X_ZCA = U.dot(np.diag(1.0/np.sqrt(S + epsilon))).dot(U.T).dot(X_norm)\n",
    "X_ZCA_rescaled = (X_ZCA - X_ZCA.min()) / (X_ZCA.max() - X_ZCA.min())\n",
    "\n",
    "plotImage(X[12, :])\n",
    "#plotImage(X_ZCA[12, :])\n",
    "plotImage(X_ZCA_rescaled[12, :])"
   ]
  },
  {
   "cell_type": "code",
   "execution_count": 6,
   "metadata": {},
   "outputs": [],
   "source": [
    "#Load MNIST data\n",
    "(Xtr, Ltr), (X_test, L_test)=mnist.load_data()\n",
    "#print(Xtr.shape)\n",
    "#print(28*28)"
   ]
  },
  {
   "cell_type": "code",
   "execution_count": 7,
   "metadata": {},
   "outputs": [],
   "source": [
    "#Plots the sample in Xtr at index i\n",
    "def plotSample(i):\n",
    "    Image = Xtr[i,:,:]\n",
    "    Label = Ltr[i]\n",
    "    plt.title('Label is {Label}'.format(Label=Label))\n",
    "    plt.imshow(Image)\n",
    "    plt.show()\n",
    "    plt.close()"
   ]
  },
  {
   "cell_type": "code",
   "execution_count": 8,
   "metadata": {},
   "outputs": [
    {
     "data": {
      "image/png": "[encoded data removed]",
      "text/plain": [
       "<Figure size 432x288 with 1 Axes>"
      ]
     },
     "metadata": {
      "needs_background": "light"
     },
     "output_type": "display_data"
    },
    {
     "name": "stdout",
     "output_type": "stream",
     "text": [
      "Min:  0 \n",
      "Max:  255 \n",
      "Mean:  45.74872448979592 \n",
      "StdDev:  90.0166048934103\n"
     ]
    }
   ],
   "source": [
    "#Sample min, max, mean and standard deviation\n",
    "index = 7\n",
    "img = Xtr[index,:,:]\n",
    "plotSample(index)\n",
    "print(\"Min: \", np.min(img), \"\\nMax: \", np.max(img), \n",
    "      \"\\nMean: \", np.mean(img), \"\\nStdDev: \", np.std(img))"
   ]
  },
  {
   "cell_type": "code",
   "execution_count": 9,
   "metadata": {},
   "outputs": [
    {
     "data": {
      "text/plain": [
       "(500, 784)"
      ]
     },
     "execution_count": 9,
     "metadata": {},
     "output_type": "execute_result"
    }
   ],
   "source": [
    "#Traing phase\n",
    "num_sample=500\n",
    "Tr_set=Xtr[:num_sample,:,:]\n",
    "Ltr_set=Ltr[:num_sample]\n",
    "\n",
    "Tr_set=Tr_set.reshape(num_sample,Tr_set.shape[1]*Tr_set.shape[2])\n",
    "Tr_set.shape"
   ]
  },
  {
   "cell_type": "code",
   "execution_count": 10,
   "metadata": {},
   "outputs": [],
   "source": [
    "def predict(X, L, k):\n",
    "    num_test = X.shape[0]\n",
    "    Lpred = np.zeros(num_test, dtype=Ltr_set.dtype)\n",
    "    \n",
    "    for i in range(num_test):\n",
    "        if(L == 1):\n",
    "            distances = np.sum(np.abs(Tr_set-X[i,:]),axis=1)\n",
    "        elif(L == 2):\n",
    "            distances = np.sqrt(np.sum(np.square(np.abs(Tr_set-X[i,:])),axis=1))\n",
    "        else:\n",
    "            print(\"L needs to be set to 1 or 2\")\n",
    "            return\n",
    "            \n",
    "        top_k = np.zeros(k, dtype=Ltr_set.dtype)\n",
    "        for j in range (0, k):\n",
    "            min_index = np.argmin(distances)\n",
    "            top_k[j] = Ltr_set[min_index]\n",
    "            np.put(distances, min_index, np.inf)\n",
    "        #print(top_k)\n",
    "        #print(np.bincount(top_k))\n",
    "        #print(np.bincount(top_k).argmax())\n",
    "        Lpred[i] = np.bincount(top_k).argmax()\n",
    "    return Lpred"
   ]
  },
  {
   "cell_type": "code",
   "execution_count": 11,
   "metadata": {},
   "outputs": [
    {
     "name": "stdout",
     "output_type": "stream",
     "text": [
      "Accuracy: 0.1628\n"
     ]
    }
   ],
   "source": [
    "Test_images = X_test.reshape(X_test.shape[0], X_test.shape[1] * X_test.shape[2])\n",
    "Labels_predicted = predict(Test_images, 2, 3)\n",
    "\n",
    "print(\"Accuracy:\", np.mean(Labels_predicted == L_test))\n",
    "\n"
   ]
  },
  {
   "cell_type": "code",
   "execution_count": null,
   "metadata": {},
   "outputs": [],
   "source": []
  }
 ],
 "metadata": {
  "kernelspec": {
   "display_name": "Python 3",
   "language": "python",
   "name": "python3"
  },
  "language_info": {
   "codemirror_mode": {
    "name": "ipython",
    "version": 3
   },
   "file_extension": ".py",
   "mimetype": "text/x-python",
   "name": "python",
   "nbconvert_exporter": "python",
   "pygments_lexer": "ipython3",
   "version": "3.6.8"
  }
 },
 "nbformat": 4,
 "nbformat_minor": 2
}
