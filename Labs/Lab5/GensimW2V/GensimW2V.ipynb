{
 "cells": [
  {
   "cell_type": "code",
   "execution_count": 43,
   "metadata": {},
   "outputs": [],
   "source": [
    "# import modules & set up logging\n",
    "import gensim, logging, numpy as np\n",
    "import help_functions as hf\n",
    "import nltk\n",
    "\n",
    "from scipy import spatial"
   ]
  },
  {
   "cell_type": "markdown",
   "metadata": {},
   "source": [
    "# main.py"
   ]
  },
  {
   "cell_type": "code",
   "execution_count": 44,
   "metadata": {
    "scrolled": true
   },
   "outputs": [],
   "source": [
    "def toeflTest(dimension, threshold):\n",
    "    model = gensim.models.Word2Vec(sentences, min_count=1, sample=threshold, sg=1,size=dimension) # create model using Word2Ve with the given parameters\n",
    "    print(len(model.wv.vocab)) # check the length of the vocabulary which was formed by Word2Vec\n",
    "    \n",
    "    \n",
    "    sum = 0.0\n",
    "    \n",
    "    #The rest implements passing TOEFL tests\n",
    "    i = 0 #counter for TOEFL tests\n",
    "    number_of_tests = 80\n",
    "    text_file = open('new_toefl.txt', 'r')\n",
    "    right_answers = 0 # variable for correct answers\n",
    "    number_skipped_tests = 0 # some tests could be skipped if there are no corresponding words in the vocabulary extracted from the training corpus\n",
    "    while i < number_of_tests:\n",
    "                line = text_file.readline() #read line in the file\n",
    "                words = line.split() # extract words from the line\n",
    "                try:\n",
    "                    words = [lemmatizer.lemmatize(lemmatizer.lemmatize(lemmatizer.lemmatize(word, 'v'), 'n'), 'a') for word in\n",
    "                             words] # lemmatize words in the current test\n",
    "                    vectors = []\n",
    "                    if words[0] in model: # check if there embedding for the query word\n",
    "                        k = 1 #counter for loop iterating over 5 words in the test\n",
    "                        vectors.append(model[words[0]])\n",
    "                        while k < 5:\n",
    "                            if words[k] in model: # if alternative has the embedding\n",
    "                                vectors.append(model[words[k]]) #assing the learned vector\n",
    "                            else: \n",
    "                                vectors.append(np.random.randn(dimension)) #assing random vector\n",
    "                            k += 1\n",
    "                        right_answers += hf.get_answer_mod(vectors) #find the closest vector and check if it is the correct answer\n",
    "\n",
    "                except KeyError: # if there is no representation for the query vector than skip\n",
    "                    number_skipped_tests += 1\n",
    "                    print(\"skipped test: \" + str(i) + \"; Line: \" + str(words))\n",
    "                except IndexError:\n",
    "                    print(i)\n",
    "                    print(line)\n",
    "                    print(words)\n",
    "                    break\n",
    "                i += 1\n",
    "    text_file.close()\n",
    "    sum += 100 * float(right_answers) / float(number_of_tests) #get the percentage\n",
    "    print(\"Threshold ferq = \"+ str(threshold)+\" Percentage of correct answers: \" + str(sum) + \"%\")"
   ]
  },
  {
   "cell_type": "code",
   "execution_count": 60,
   "metadata": {},
   "outputs": [],
   "source": [
    "#@author: The first version of this code is the courtesy of Vadim Selyanik\n",
    "logging.basicConfig(format='%(asctime)s : %(levelname)s : %(message)s', level=logging.INFO)\n",
    "logger = logging.getLogger()\n",
    "logger.setLevel(logging.INFO)\n",
    "lemmatizer = nltk.WordNetLemmatizer() # create a lemmatizer\n",
    "\n",
    "sentences = []\n",
    "file = open(\"lemmatized.text\", \"r\")\n",
    "\n",
    "for line in file: # read the file and create list which contains all sentences found in the text\n",
    "    sentences.append(line.split())\n",
    "file.close()\n",
    "# train word2vec on the two sentences"
   ]
  },
  {
   "cell_type": "code",
   "execution_count": 61,
   "metadata": {
    "scrolled": false
   },
   "outputs": [
    {
     "name": "stdout",
     "output_type": "stream",
     "text": [
      "70583\n",
      "Threshold ferq = 0.00055 Percentage of correct answers: 48.75%\n"
     ]
    },
    {
     "name": "stderr",
     "output_type": "stream",
     "text": [
      "C:\\Users\\David\\Anaconda3\\envs\\Test\\lib\\site-packages\\ipykernel_launcher.py:21: DeprecationWarning: Call to deprecated `__contains__` (Method will be removed in 4.0.0, use self.wv.__contains__() instead).\n",
      "C:\\Users\\David\\Anaconda3\\envs\\Test\\lib\\site-packages\\ipykernel_launcher.py:23: DeprecationWarning: Call to deprecated `__getitem__` (Method will be removed in 4.0.0, use self.wv.__getitem__() instead).\n",
      "C:\\Users\\David\\Anaconda3\\envs\\Test\\lib\\site-packages\\ipykernel_launcher.py:25: DeprecationWarning: Call to deprecated `__contains__` (Method will be removed in 4.0.0, use self.wv.__contains__() instead).\n",
      "C:\\Users\\David\\Anaconda3\\envs\\Test\\lib\\site-packages\\ipykernel_launcher.py:26: DeprecationWarning: Call to deprecated `__getitem__` (Method will be removed in 4.0.0, use self.wv.__getitem__() instead).\n"
     ]
    }
   ],
   "source": [
    "logger.setLevel(logging.ERROR)\n",
    "toeflTest(dimension=10, threshold=0.00055)"
   ]
  },
  {
   "cell_type": "code",
   "execution_count": 62,
   "metadata": {},
   "outputs": [
    {
     "name": "stdout",
     "output_type": "stream",
     "text": [
      "70583\n",
      "Threshold ferq = 0.00055 Percentage of correct answers: 67.5%\n"
     ]
    },
    {
     "name": "stderr",
     "output_type": "stream",
     "text": [
      "C:\\Users\\David\\Anaconda3\\envs\\Test\\lib\\site-packages\\ipykernel_launcher.py:21: DeprecationWarning: Call to deprecated `__contains__` (Method will be removed in 4.0.0, use self.wv.__contains__() instead).\n",
      "C:\\Users\\David\\Anaconda3\\envs\\Test\\lib\\site-packages\\ipykernel_launcher.py:23: DeprecationWarning: Call to deprecated `__getitem__` (Method will be removed in 4.0.0, use self.wv.__getitem__() instead).\n",
      "C:\\Users\\David\\Anaconda3\\envs\\Test\\lib\\site-packages\\ipykernel_launcher.py:25: DeprecationWarning: Call to deprecated `__contains__` (Method will be removed in 4.0.0, use self.wv.__contains__() instead).\n",
      "C:\\Users\\David\\Anaconda3\\envs\\Test\\lib\\site-packages\\ipykernel_launcher.py:26: DeprecationWarning: Call to deprecated `__getitem__` (Method will be removed in 4.0.0, use self.wv.__getitem__() instead).\n"
     ]
    }
   ],
   "source": [
    "toeflTest(dimension=100, threshold=0.00055)"
   ]
  },
  {
   "cell_type": "code",
   "execution_count": 63,
   "metadata": {},
   "outputs": [
    {
     "name": "stdout",
     "output_type": "stream",
     "text": [
      "70583\n",
      "Threshold ferq = 0.00055 Percentage of correct answers: 67.5%\n"
     ]
    },
    {
     "name": "stderr",
     "output_type": "stream",
     "text": [
      "C:\\Users\\David\\Anaconda3\\envs\\Test\\lib\\site-packages\\ipykernel_launcher.py:21: DeprecationWarning: Call to deprecated `__contains__` (Method will be removed in 4.0.0, use self.wv.__contains__() instead).\n",
      "C:\\Users\\David\\Anaconda3\\envs\\Test\\lib\\site-packages\\ipykernel_launcher.py:23: DeprecationWarning: Call to deprecated `__getitem__` (Method will be removed in 4.0.0, use self.wv.__getitem__() instead).\n",
      "C:\\Users\\David\\Anaconda3\\envs\\Test\\lib\\site-packages\\ipykernel_launcher.py:25: DeprecationWarning: Call to deprecated `__contains__` (Method will be removed in 4.0.0, use self.wv.__contains__() instead).\n",
      "C:\\Users\\David\\Anaconda3\\envs\\Test\\lib\\site-packages\\ipykernel_launcher.py:26: DeprecationWarning: Call to deprecated `__getitem__` (Method will be removed in 4.0.0, use self.wv.__getitem__() instead).\n"
     ]
    }
   ],
   "source": [
    "toeflTest(dimension=1000, threshold=0.00055)"
   ]
  },
  {
   "cell_type": "code",
   "execution_count": null,
   "metadata": {},
   "outputs": [],
   "source": []
  }
 ],
 "metadata": {
  "kernelspec": {
   "display_name": "Python 3",
   "language": "python",
   "name": "python3"
  },
  "language_info": {
   "codemirror_mode": {
    "name": "ipython",
    "version": 3
   },
   "file_extension": ".py",
   "mimetype": "text/x-python",
   "name": "python",
   "nbconvert_exporter": "python",
   "pygments_lexer": "ipython3",
   "version": "3.6.8"
  }
 },
 "nbformat": 4,
 "nbformat_minor": 2
}
