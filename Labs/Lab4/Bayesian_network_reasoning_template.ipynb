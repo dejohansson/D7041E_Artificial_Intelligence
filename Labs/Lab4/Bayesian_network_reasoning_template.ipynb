{
 "cells": [
  {
   "cell_type": "code",
   "execution_count": 1,
   "metadata": {},
   "outputs": [],
   "source": [
    "import itertools\n"
   ]
  },
  {
   "cell_type": "code",
   "execution_count": 2,
   "metadata": {},
   "outputs": [],
   "source": [
    "def get_pdf(var, cond, cpds):\n",
    "    \"\"\"\n",
    "    Returns conditional probability P(var|cond) given in cpds.\n",
    "\n",
    "    var -- a tuple (name, value)\n",
    "    cond -- a dictionary of variable values {n1:v1, n2:v2, ...}\n",
    "    cpds -- a dictionary of conditional probability distributions(cpd)\n",
    "   \n",
    "    The key of a single cpd in dictionary is the variable that cpd is for. \n",
    "\n",
    "    The value of a single cpf is a pair: (parents, probabilities). The order of\n",
    "    probabilities is defined by truth values of parents starting with all\n",
    "    variables set to False (as is usual in truth tables). \n",
    "    Therefore, having 2 conditional variables, the order is:\n",
    "    \n",
    "    False False\n",
    "    False True\n",
    "    True False\n",
    "    True True\n",
    "    \n",
    "    Example network:\n",
    "    Having a small network X1->X2->X3, where P(X1)=0.7, \n",
    "    P(X2|X1)=0.6, P(X2|not X1)=0.3, P(X3|X2)=0.8, and P(X3|notX2)=0.1, the \n",
    "    encoding would be: \n",
    "\n",
    "    cpds_small = {\n",
    "        'X1': (tuple(), [0.7]),\n",
    "        'X2': (('X1', ), [0.3, 0.6],\n",
    "        'X3': (('X2', ), [0.1, 0.8],\n",
    "    }\n",
    "\n",
    "    Examples:\n",
    "    >>> get_pdf(('X1', True), {}, cpds_small))\n",
    "    0.7\n",
    "    >>> get_pdf(('X2', True), {'X1':True}, cpds_small))\n",
    "    0.6\n",
    "    >>> get_pdf(('X3', False), {'X2':False}, cpds_small))\n",
    "    0.9\n",
    "    \"\"\"\n",
    "\n",
    "    if var[0] not in cpds:\n",
    "        raise Exception('Variable {} does not exist'.format(var[0]))\n",
    "\n",
    "    parents, probs = cpds[var[0]]\n",
    "    # create value vector\n",
    "    values = [cond[cvar] for cvar in parents]\n",
    "\n",
    "    # index \n",
    "    index = sum(2**vi * v for vi, v in enumerate(values[::-1]))\n",
    "    return probs[index] if var[1] else 1-probs[index]\n",
    "\n"
   ]
  },
  {
   "cell_type": "code",
   "execution_count": 3,
   "metadata": {},
   "outputs": [
    {
     "data": {
      "text/plain": [
       "0.1"
      ]
     },
     "execution_count": 3,
     "metadata": {},
     "output_type": "execute_result"
    }
   ],
   "source": [
    "cpds_small = {\n",
    "        'X1': (tuple(), [0.7]),\n",
    "        'X2': (('X1', ), [0.3, 0.6]),\n",
    "        'X3': (('X2', ), [0.1, 0.8]),\n",
    "    }\n",
    "\n",
    "get_pdf(('X3', True), {'X2':False, 'X1':True}, cpds_small)"
   ]
  },
  {
   "cell_type": "code",
   "execution_count": 4,
   "metadata": {
    "scrolled": true
   },
   "outputs": [],
   "source": [
    "def jpd(variables, cpds):\n",
    "    \"\"\"\n",
    "    Returns a joint probability distribution  of all variables from \n",
    "    the cpds. Joint probability distribution is calculated using the 'chain rule'. \n",
    "\n",
    "    The joint probability distribution should be returned as a list having \n",
    "    $2**len(variables)$ probabilities summing to 1 (if the sum is not 1, \n",
    "    you are doing something wrong). \n",
    "\n",
    "    The order of probabilities should be the same as in cpds.\n",
    "    For example, with three variables, the correct order of variable values is:\n",
    "\n",
    "    False, False, False\n",
    "    False, False, True\n",
    "    False, True, False\n",
    "    False, True, True\n",
    "    True, False, False\n",
    "    True, False, True\n",
    "    True, True, False\n",
    "    True, True, True\n",
    "\n",
    "    Hint: use module 'itertools', specifically the 'product' method.  \n",
    "\n",
    "    Example:\n",
    "    Consider the same small network X1->X2->X3 with cpds:\n",
    "    cpds_small = {\n",
    "        'X1': (tuple(), [0.7]),\n",
    "        'X2': (('X1', ), [0.3, 0.6],\n",
    "        'X3': (('X2', ), [0.1, 0.8],\n",
    "    }\n",
    "\n",
    "    >>> jpd(['X1','X2','X3'], cpds_small)\n",
    "    [0.18900000000000003, 0.021000000000000005, 0.018, 0.07200000000000001, \n",
    "    0.252, 0.027999999999999997, 0.0839999999999998, 0.336]\n",
    "\n",
    "    First value explanation:\n",
    "    P(X1=false,X2=false,X3=false) = P(X1=false) * P(X2=false|X1=false) * P(X3=false|X2=false) =\n",
    "                                  = 0.3 * 0.7 * 0.9 = 0.189\n",
    "\n",
    "    \"\"\"\n",
    "\n",
    "    # YOUR CODE HERE\n",
    "    per = list(itertools.product([False, True], repeat=len(variables)))\n",
    "    prob = []\n",
    "    \n",
    "    for i in range(len(per)):\n",
    "        res = 1\n",
    "        for j in range(len(variables)):\n",
    "            cond = {}\n",
    "            parents, probs = cpds[variables[j]]\n",
    "            for p in parents:\n",
    "                cond[p] = per[i][variables.index(p)]\n",
    "            res *= get_pdf((variables[j], per[i][j]), cond, cpds)\n",
    "        prob.append(res)\n",
    "    return prob"
   ]
  },
  {
   "cell_type": "code",
   "execution_count": 5,
   "metadata": {},
   "outputs": [
    {
     "data": {
      "text/plain": [
       "[0.18900000000000003,\n",
       " 0.021000000000000005,\n",
       " 0.018,\n",
       " 0.07200000000000001,\n",
       " 0.252,\n",
       " 0.027999999999999997,\n",
       " 0.08399999999999998,\n",
       " 0.336]"
      ]
     },
     "execution_count": 5,
     "metadata": {},
     "output_type": "execute_result"
    }
   ],
   "source": [
    "cpds_small = {\n",
    "        'X1': (tuple(), [0.7]),\n",
    "        'X2': (('X1', ), [0.3, 0.6]),\n",
    "        'X3': (('X2', ), [0.1, 0.8]),\n",
    "}\n",
    "jpd(['X1','X2','X3'], cpds_small)"
   ]
  },
  {
   "cell_type": "code",
   "execution_count": 6,
   "metadata": {},
   "outputs": [],
   "source": [
    "def marginalize(jpd, variables, values):\n",
    "    \"\"\" \n",
    "    Returns probability P(values) by marginalizing out the variables that \n",
    "    are not in values. \n",
    "\n",
    "    jpd -- is a joint probability distribution as described in the jpd method. \n",
    "    variables -- all variables of the bayesian network.\n",
    "    values -- is a list of (name, value) pairs.\n",
    "\n",
    "    Examples (using the same distribution as before):\n",
    "    >>> j = jpd(['X1','X2','X3'], cpds_small)\n",
    "    >>> marginalize(j, ['X1', 'X2', 'X3'], [('X1', True), ('X2', False)])\n",
    "    0.28\n",
    "    >>> marginalize(j, ['X1', 'X2', 'X3'], [('X1', True), ('X2', False), ('X3', True)])\n",
    "    0.028\n",
    "\n",
    "    \"\"\"\n",
    "    \n",
    "    # YOUR CODE HERE\n",
    "    per = list(itertools.product([False, True], repeat=len(variables)))\n",
    "    ls = []\n",
    "    for v in values:\n",
    "        ls.append((variables.index(v[0]), v[1]))\n",
    "    \n",
    "    res = 0\n",
    "    for p in per:\n",
    "        eq = True\n",
    "        for l in ls:\n",
    "            if p[l[0]] != l[1]:\n",
    "                eq = False\n",
    "                break\n",
    "        if eq == True:\n",
    "            res += jpd[per.index(p)]\n",
    "    return res\n"
   ]
  },
  {
   "cell_type": "code",
   "execution_count": 7,
   "metadata": {},
   "outputs": [
    {
     "name": "stdout",
     "output_type": "stream",
     "text": [
      "0.28\n",
      "0.027999999999999997\n"
     ]
    }
   ],
   "source": [
    "cpds_small = {\n",
    "        'X1': (tuple(), [0.7]),\n",
    "        'X2': (('X1', ), [0.3, 0.6]),\n",
    "        'X3': (('X2', ), [0.1, 0.8]),\n",
    "}\n",
    "j = jpd(['X1','X2','X3'], cpds_small)\n",
    "print(marginalize(j, ['X1', 'X2', 'X3'], [('X1', True), ('X2', False)]))\n",
    "print(marginalize(j, ['X1', 'X2', 'X3'], [('X1', True), ('X2', False), ('X3', True)]))"
   ]
  },
  {
   "cell_type": "code",
   "execution_count": 8,
   "metadata": {},
   "outputs": [],
   "source": [
    "def cond_prob(jpd, variables, values1, values2):\n",
    "    \"\"\"\n",
    "    Returns P(values1|values2)\n",
    "\n",
    "    Examples:\n",
    "    >>> cond_prob(j, ['X1','X2','X3'], [('X2',True)], [('X1',True)]) #P(X2|X1)\n",
    "    0.6\n",
    "    >>> cond_prob(j, ['X1','X2','X3'], [('X1',True)], [('X2',True)]) #P(X1|X2)\n",
    "    0.8235...\n",
    "    >>> cond_prob(j, ['X1','X2','X3'], [('X1',True),('X2',False)], [('X2',True)]) #P(X1,notX2|X2)\n",
    "    0.0\n",
    "    \"\"\"\n",
    "\n",
    "    # YOUR CODE HERE\n",
    "    return marginalize(jpd, variables, values1+values2) / marginalize(jpd, variables, values2)\n"
   ]
  },
  {
   "cell_type": "code",
   "execution_count": 9,
   "metadata": {},
   "outputs": [
    {
     "name": "stdout",
     "output_type": "stream",
     "text": [
      "0.6\n",
      "0.8235294117647058\n",
      "0.0\n"
     ]
    }
   ],
   "source": [
    "cpds_small = {\n",
    "        'X1': (tuple(), [0.7]),\n",
    "        'X2': (('X1', ), [0.3, 0.6]),\n",
    "        'X3': (('X2', ), [0.1, 0.8]),\n",
    "}\n",
    "j = jpd(['X1','X2','X3'], cpds_small)\n",
    "print(cond_prob(j, ['X1','X2','X3'], [('X2',True)], [('X1',True)]))\n",
    "print(cond_prob(j, ['X1','X2','X3'], [('X1',True)], [('X2',True)]))\n",
    "print(cond_prob(j, ['X1','X2','X3'], [('X1',True),('X2',False)], [('X2',True)]))"
   ]
  },
  {
   "cell_type": "code",
   "execution_count": 10,
   "metadata": {},
   "outputs": [
    {
     "name": "stdout",
     "output_type": "stream",
     "text": [
      "0.43256\n",
      "0.10675727484774253\n"
     ]
    }
   ],
   "source": [
    "variables = ['S','C','R','E','G','M','F']\n",
    "cpds_company = {\n",
    " 'S': (tuple(), [0.05]),\n",
    " 'C': (tuple(), [0.8]),\n",
    " 'R': (('S', ), [0.1, 0.5]),\n",
    " 'E': (('S', 'C'), [0.3, 0.01, 0.7, 0.1]),\n",
    " 'G': (('R', 'E'), [0.9, 0.4, 0.4, 0.1]),\n",
    " 'M': (('G', ), [0.2, 0.4]),\n",
    " 'F': (('M', 'G'), [0.4, 0.1, 0.9, 0.8]),\n",
    "}\n",
    "j = jpd(variables, cpds_company)\n",
    "print(cond_prob(j, variables, [('F',True)], [('S',True)]))\n",
    "print(cond_prob(j, variables, [('E',True)], [('R',True), ('F',True)]))\n",
    "\n",
    "#cpds_company['C']"
   ]
  },
  {
   "cell_type": "code",
   "execution_count": null,
   "metadata": {},
   "outputs": [],
   "source": []
  },
  {
   "cell_type": "code",
   "execution_count": null,
   "metadata": {},
   "outputs": [],
   "source": []
  }
 ],
 "metadata": {
  "kernelspec": {
   "display_name": "Python 3",
   "language": "python",
   "name": "python3"
  },
  "language_info": {
   "codemirror_mode": {
    "name": "ipython",
    "version": 3
   },
   "file_extension": ".py",
   "mimetype": "text/x-python",
   "name": "python",
   "nbconvert_exporter": "python",
   "pygments_lexer": "ipython3",
   "version": "3.6.8"
  }
 },
 "nbformat": 4,
 "nbformat_minor": 2
}
