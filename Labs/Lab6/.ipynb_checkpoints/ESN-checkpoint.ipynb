{
 "cells": [
  {
   "cell_type": "code",
   "execution_count": 8,
   "metadata": {},
   "outputs": [],
   "source": [
    "import numpy as np\n",
    "import math"
   ]
  },
  {
   "cell_type": "code",
   "execution_count": 28,
   "metadata": {
    "scrolled": false
   },
   "outputs": [],
   "source": [
    "nDataPoints = 4000\n",
    "\n",
    "#Generate wave data\n",
    "sinData = np.zeros(nDataPoints)\n",
    "for i in range(1, nDataPoints):\n",
    "    sinData[i] = math.sin((i+1)/4)/2\n",
    "trSet = sinData[:(nDataPoints//4)*3]\n",
    "dataSet = sinData[(nDataPoints//4)*3:]\n",
    "#print(len(dataSet))\n",
    "#print(len(trSet))"
   ]
  },
  {
   "cell_type": "code",
   "execution_count": null,
   "metadata": {},
   "outputs": [],
   "source": [
    "nNeurons = 1000\n",
    "nInputs = 1\n",
    "\n",
    "\n",
    "#Initialize the input weights\n",
    "\n",
    "\n",
    "#Initialize the reservoir weights\n",
    "W = np.random.rand(nNeurons, nNeurons)"
   ]
  },
  {
   "cell_type": "code",
   "execution_count": null,
   "metadata": {},
   "outputs": [],
   "source": []
  }
 ],
 "metadata": {
  "kernelspec": {
   "display_name": "Python 3",
   "language": "python",
   "name": "python3"
  },
  "language_info": {
   "codemirror_mode": {
    "name": "ipython",
    "version": 3
   },
   "file_extension": ".py",
   "mimetype": "text/x-python",
   "name": "python",
   "nbconvert_exporter": "python",
   "pygments_lexer": "ipython3",
   "version": "3.6.8"
  }
 },
 "nbformat": 4,
 "nbformat_minor": 2
}
